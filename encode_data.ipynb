{
 "cells": [
  {
   "cell_type": "code",
   "execution_count": 1,
   "metadata": {},
   "outputs": [],
   "source": [
    "%load_ext autoreload\n",
    "%autoreload 2"
   ]
  },
  {
   "cell_type": "code",
   "execution_count": 2,
   "metadata": {},
   "outputs": [],
   "source": [
    "from deepsvg.svglib.svg import SVG\n",
    "\n",
    "from deepsvg import utils\n",
    "from deepsvg.difflib.tensor import SVGTensor\n",
    "from deepsvg.svglib.utils import to_gif\n",
    "from deepsvg.svglib.geom import Bbox\n",
    "from deepsvg.svg_dataset import SVGDataset, load_dataset\n",
    "from deepsvg.utils.utils import batchify, linear\n",
    "\n",
    "import torch\n",
    "\n",
    "import os\n",
    "import ntpath\n",
    "import re\n",
    "from tqdm import tqdm\n",
    "import pickle\n",
    "import random\n",
    "\n",
    "import matplotlib.pyplot as plt\n",
    "from matplotlib.offsetbox import OffsetImage, AnnotationBbox\n",
    "\n",
    "from cairosvg import svg2png\n",
    "from PIL import Image\n",
    "import cv2\n",
    "\n",
    "import pandas as pd\n",
    "import numpy as np\n",
    "\n",
    "from sklearn.manifold import TSNE"
   ]
  },
  {
   "cell_type": "code",
   "execution_count": 3,
   "metadata": {},
   "outputs": [],
   "source": [
    "device = torch.device(\"cuda:0\"if torch.cuda.is_available() else \"cpu\") "
   ]
  },
  {
   "cell_type": "code",
   "execution_count": 12,
   "metadata": {},
   "outputs": [],
   "source": [
    "dim_z = 128\n",
    "\n",
    "data = 'serifs'\n",
    "pretrained_folder = \"pretrained/\"+data\n",
    "pretrained_file = data+\"_unlabelled_{}.pth.tar\".format(dim_z)\n",
    "pretrained_path = os.path.join(pretrained_folder, pretrained_file)\n",
    "\n",
    "from configs.deepsvg.serifs_unlabelled import Config\n",
    "\n",
    "cfg = Config()\n",
    "cfg.model_cfg.dim_z = dim_z\n",
    "model = cfg.make_model().to(device)\n",
    "utils.load_model(pretrained_path, model)\n",
    "model.eval();"
   ]
  },
  {
   "cell_type": "code",
   "execution_count": 13,
   "metadata": {},
   "outputs": [],
   "source": [
    "dataset = load_dataset(cfg)"
   ]
  },
  {
   "cell_type": "code",
   "execution_count": 14,
   "metadata": {},
   "outputs": [],
   "source": [
    "def encode_icon(idx):\n",
    "    data = dataset.get(id=idx, random_aug=False)\n",
    "    model_args = batchify((data[key] for key in cfg.model_args), device)\n",
    "    with torch.no_grad():\n",
    "        z = model(*model_args, encode_mode=True)\n",
    "    return z"
   ]
  },
  {
   "cell_type": "code",
   "execution_count": 15,
   "metadata": {},
   "outputs": [],
   "source": [
    "# = z = encode_icon('10000_MyriadPro-LightSemiExtIt_fs_50_R_Layer 2')"
   ]
  },
  {
   "cell_type": "code",
   "execution_count": 16,
   "metadata": {},
   "outputs": [],
   "source": [
    "# extract dataframe\n",
    "df = dataset.df\n",
    "\n",
    "# create variables to save image paths and features\n",
    "tensors = np.zeros((len(df), dim_z))\n",
    "png_paths = []\n",
    "jpg_paths = []\n",
    "\n",
    "# create folder to save images\n",
    "dataset_folder = os.path.dirname(cfg.meta_filepath)\n",
    "png_folder = os.path.join(dataset_folder, 'pngs')\n",
    "\n",
    "# create corresponding jpg folder\n",
    "jpg_folder = os.path.join(dataset_folder, 'jpgs')\n",
    "\n",
    "# object saving pickle path\n",
    "pickle_save_path = os.path.join('encoded_data', pretrained_file.split('.')[0]+'.pkl')"
   ]
  },
  {
   "cell_type": "code",
   "execution_count": 17,
   "metadata": {},
   "outputs": [
    {
     "name": "stderr",
     "output_type": "stream",
     "text": [
      "100%|██████████| 24366/24366 [05:08<00:00, 78.99it/s]\n"
     ]
    }
   ],
   "source": [
    "# generate tensors and images\n",
    "\n",
    "for index, row in tqdm(df.iterrows(), total = df.shape[0]):\n",
    "    # get id\n",
    "    idx = row[\"id\"]\n",
    "    \n",
    "    # encode and save tensor\n",
    "    tensor = encode_icon(idx)\n",
    "    tensors[index] = tensor.cpu().numpy().squeeze()\n",
    "    \n",
    "    # save png and jpg paths\n",
    "    path = os.path.join(cfg.data_dir, idx+'.svg')\n",
    "    png_path = os.path.join(png_folder, idx+'.png')\n",
    "    png_paths.append(png_path)\n",
    "    \n",
    "    jpg_path = re.sub('png', 'jpg', png_path)\n",
    "    jpg_paths.append(jpg_path)"
   ]
  },
  {
   "cell_type": "code",
   "execution_count": 18,
   "metadata": {},
   "outputs": [],
   "source": [
    "# Save Objects\n",
    "\n",
    "file = dict()\n",
    "file['tensors'] = tensors\n",
    "file['jpg_paths'] = jpg_paths\n",
    "file['png_paths'] = png_paths\n",
    "\n",
    "with open(pickle_save_path, 'wb') as handle:\n",
    "    pickle.dump(file, handle)"
   ]
  },
  {
   "cell_type": "code",
   "execution_count": null,
   "metadata": {},
   "outputs": [],
   "source": []
  }
 ],
 "metadata": {
  "kernelspec": {
   "display_name": "deepsvg",
   "language": "python",
   "name": "deepsvg"
  },
  "language_info": {
   "codemirror_mode": {
    "name": "ipython",
    "version": 3
   },
   "file_extension": ".py",
   "mimetype": "text/x-python",
   "name": "python",
   "nbconvert_exporter": "python",
   "pygments_lexer": "ipython3",
   "version": "3.7.10"
  }
 },
 "nbformat": 4,
 "nbformat_minor": 4
}
