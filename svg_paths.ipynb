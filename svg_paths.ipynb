{
 "cells": [
  {
   "cell_type": "code",
   "execution_count": 2,
   "metadata": {},
   "outputs": [],
   "source": [
    "%load_ext autoreload\n",
    "%autoreload 2"
   ]
  },
  {
   "cell_type": "code",
   "execution_count": 17,
   "metadata": {},
   "outputs": [],
   "source": [
    "import os\n",
    "from deepsvg.svglib.geom import Point, Angle\n",
    "from deepsvg.svglib.svg import SVG\n",
    "from deepsvg.svglib.utils import make_grid\n",
    "\n",
    "from cairosvg import svg2png\n",
    "\n",
    "from svgpathtools import Path, Line, QuadraticBezier, CubicBezier, Arc, svg2paths, svg2paths2"
   ]
  },
  {
   "cell_type": "code",
   "execution_count": 3,
   "metadata": {},
   "outputs": [],
   "source": [
    "svg_folder = './docs/imgs'\n",
    "svg_path_1 = os.path.join(svg_folder, 'test.svg')\n",
    "svg_path_2 = os.path.join(svg_folder, 'Layer 2.svg')"
   ]
  },
  {
   "cell_type": "code",
   "execution_count": 5,
   "metadata": {},
   "outputs": [],
   "source": [
    "# zoom = 10\n",
    "\n",
    "# s1 = SVG.load_svg(svg_path_1)\n",
    "# s2 = SVG.load_svg(svg_path_2)\n",
    "\n",
    "# s1.normalize().zoom(zoom).canonicalize().draw(with_points=True)\n",
    "# s2.normalize().zoom(zoom).canonicalize().draw(with_points=True)\n",
    "\n",
    "# svg2png(bytestring=s1.to_str(), write_to='s1_z'+str(zoom)+'.png', scale=0.32)\n",
    "# svg2png(bytestring=s2.to_str(), write_to='s2_z'+str(zoom)+'.png', scale=0.32)"
   ]
  },
  {
   "cell_type": "code",
   "execution_count": 18,
   "metadata": {},
   "outputs": [
    {
     "name": "stdout",
     "output_type": "stream",
     "text": [
      "length =  576.6720522472069\n",
      "width =  88.70098812422583\n",
      "height =  90.52246344964291\n",
      "area =  2152.6840145000024\n"
     ]
    }
   ],
   "source": [
    "# create svgpathtools Path objects from an SVG file\n",
    "from svgpathtools import svg2paths\n",
    "paths, attributes, svg_attributes = svg2paths2(svg_path_1)\n",
    "\n",
    "# let's take the first path as an example\n",
    "mypath = paths[0]\n",
    "\n",
    " # Let's find its length\n",
    "print(\"length = \", mypath.length())\n",
    "\n",
    "# Find height, width\n",
    "xmin, xmax, ymin, ymax = mypath.bbox()\n",
    "print(\"width = \", xmax - xmin)\n",
    "print(\"height = \", ymax - ymin)\n",
    "\n",
    "# Let's find the area enclosed by the path (assuming the path is closed)\n",
    "try:\n",
    "    print(\"area = \", mypath.area())\n",
    "except AssertionError:\n",
    "    print(\"This path is not closed!\")\n",
    "    # if you want a notion of area for an open path, \n",
    "    # you could use the bounding box area.\n",
    "    print(\"height*width = \", (ymax - ymin)*(xmax - xmin))"
   ]
  },
  {
   "cell_type": "code",
   "execution_count": 21,
   "metadata": {},
   "outputs": [
    {
     "data": {
      "text/plain": [
       "{'xmlns': 'http://www.w3.org/2000/svg',\n",
       " 'xmlns:xlink': 'http://www.w3.org/1999/xlink',\n",
       " 'version': '1.1',\n",
       " 'id': 'Layer_1',\n",
       " 'x': '0px',\n",
       " 'y': '0px',\n",
       " 'viewBox': '0 0 960 560',\n",
       " 'style': 'enable-background:new 0 0 960 560;',\n",
       " 'xml:space': 'preserve'}"
      ]
     },
     "execution_count": 21,
     "metadata": {},
     "output_type": "execute_result"
    }
   ],
   "source": [
    "svg_attributes"
   ]
  },
  {
   "cell_type": "code",
   "execution_count": null,
   "metadata": {},
   "outputs": [],
   "source": []
  }
 ],
 "metadata": {
  "kernelspec": {
   "display_name": "deepsvg",
   "language": "python",
   "name": "deepsvg"
  },
  "language_info": {
   "codemirror_mode": {
    "name": "ipython",
    "version": 3
   },
   "file_extension": ".py",
   "mimetype": "text/x-python",
   "name": "python",
   "nbconvert_exporter": "python",
   "pygments_lexer": "ipython3",
   "version": "3.7.10"
  }
 },
 "nbformat": 4,
 "nbformat_minor": 4
}
