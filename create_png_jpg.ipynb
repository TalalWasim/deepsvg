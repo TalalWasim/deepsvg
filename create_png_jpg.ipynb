{
 "cells": [
  {
   "cell_type": "code",
   "execution_count": 1,
   "metadata": {},
   "outputs": [],
   "source": [
    "%load_ext autoreload\n",
    "%autoreload 2"
   ]
  },
  {
   "cell_type": "code",
   "execution_count": 2,
   "metadata": {},
   "outputs": [],
   "source": [
    "from deepsvg.svglib.svg import SVG\n",
    "\n",
    "from deepsvg import utils\n",
    "from deepsvg.svg_dataset import SVGDataset, load_dataset\n",
    "\n",
    "import os\n",
    "import ntpath\n",
    "import re\n",
    "from tqdm import tqdm\n",
    "import pickle\n",
    "import random\n",
    "\n",
    "from cairosvg import svg2png\n",
    "from PIL import Image\n",
    "import cv2\n",
    "\n",
    "import pandas as pd\n",
    "import numpy as np"
   ]
  },
  {
   "cell_type": "code",
   "execution_count": 3,
   "metadata": {},
   "outputs": [],
   "source": [
    "pretrained_folder = \"pretrained/serifs\"\n",
    "pretrained_file = \"serifs_labelled_256.pth.tar\"\n",
    "pretrained_path = os.path.join(pretrained_folder, pretrained_file)\n",
    "\n",
    "from configs.deepsvg.hierarchical_ordered_gest_labelled import Config\n",
    "\n",
    "cfg = Config()\n",
    "dataset = load_dataset(cfg)"
   ]
  },
  {
   "cell_type": "code",
   "execution_count": 4,
   "metadata": {},
   "outputs": [],
   "source": [
    "# extract dataframe\n",
    "df = dataset.df\n",
    "\n",
    "# create variables to save image paths\n",
    "png_paths = []\n",
    "jpg_paths = []\n",
    "\n",
    "# create folder to save images\n",
    "dataset_folder = os.path.dirname(cfg.meta_filepath)\n",
    "png_folder = os.path.join(dataset_folder, 'pngs')\n",
    "os.makedirs(png_folder, exist_ok = True)\n",
    "\n",
    "# create corresponding jpg folder\n",
    "jpg_folder = os.path.join(dataset_folder, 'jpgs')\n",
    "os.makedirs(jpg_folder, exist_ok = True)"
   ]
  },
  {
   "cell_type": "code",
   "execution_count": 5,
   "metadata": {},
   "outputs": [
    {
     "name": "stderr",
     "output_type": "stream",
     "text": [
      "100%|██████████| 24366/24366 [00:31<00:00, 771.42it/s]\n"
     ]
    }
   ],
   "source": [
    "# generate images\n",
    "\n",
    "for index, row in tqdm(df.iterrows(), total = df.shape[0]):\n",
    "    # get id\n",
    "    id1 = row[\"id\"]\n",
    "    \n",
    "    # save png\n",
    "    path = os.path.join(cfg.data_dir, id1+'.svg')\n",
    "    png_path = os.path.join(png_folder, id1+'.png')\n",
    "    with open(path, 'r') as f:\n",
    "        path_string =f.read()\n",
    "    svg2png(bytestring=path_string, write_to = png_path, scale = 0.32)\n",
    "    png_paths.append(png_path)"
   ]
  },
  {
   "cell_type": "code",
   "execution_count": 6,
   "metadata": {},
   "outputs": [],
   "source": [
    "def pure_pil_alpha_to_color_v2(image, color=(255, 255, 255)):\n",
    "    \"\"\"Alpha composite an RGBA Image with a specified color.\n",
    "\n",
    "    Simpler, faster version than the solutions above.\n",
    "\n",
    "    Source: http://stackoverflow.com/a/9459208/284318\n",
    "\n",
    "    Keyword Arguments:\n",
    "    image -- PIL RGBA Image object\n",
    "    color -- Tuple r, g, b (default 255, 255, 255)\n",
    "\n",
    "    \"\"\"\n",
    "    image.load()  # needed for split()\n",
    "    background = Image.new('RGB', image.size, color)\n",
    "    background.paste(image, mask=image.split()[3])  # 3 is the alpha channel\n",
    "    return background"
   ]
  },
  {
   "cell_type": "code",
   "execution_count": 7,
   "metadata": {},
   "outputs": [
    {
     "name": "stderr",
     "output_type": "stream",
     "text": [
      "100%|██████████| 24366/24366 [00:06<00:00, 3576.57it/s]\n"
     ]
    }
   ],
   "source": [
    "# png to jpg\n",
    "for png_path in tqdm(png_paths):\n",
    "    # path to jpg image\n",
    "    jpg_path = re.sub('png', 'jpg', png_path)\n",
    "    jpg_paths.append(jpg_path)\n",
    "    \n",
    "    # convert png to jpg and save\n",
    "    png = Image.open(png_path)\n",
    "    jpg = pure_pil_alpha_to_color_v2(png, color=(255, 255, 255))\n",
    "    jpg.save(jpg_path)"
   ]
  },
  {
   "cell_type": "code",
   "execution_count": null,
   "metadata": {},
   "outputs": [],
   "source": []
  }
 ],
 "metadata": {
  "kernelspec": {
   "display_name": "deepsvg",
   "language": "python",
   "name": "deepsvg"
  },
  "language_info": {
   "codemirror_mode": {
    "name": "ipython",
    "version": 3
   },
   "file_extension": ".py",
   "mimetype": "text/x-python",
   "name": "python",
   "nbconvert_exporter": "python",
   "pygments_lexer": "ipython3",
   "version": "3.7.10"
  }
 },
 "nbformat": 4,
 "nbformat_minor": 4
}
