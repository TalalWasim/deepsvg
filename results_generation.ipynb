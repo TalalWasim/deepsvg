{
 "cells": [
  {
   "cell_type": "code",
   "execution_count": 2,
   "metadata": {},
   "outputs": [],
   "source": [
    "%load_ext autoreload\n",
    "%autoreload 2"
   ]
  },
  {
   "cell_type": "code",
   "execution_count": 3,
   "metadata": {},
   "outputs": [],
   "source": [
    "from deepsvg.svglib.svg import SVG\n",
    "\n",
    "from deepsvg import utils\n",
    "from deepsvg.difflib.tensor import SVGTensor\n",
    "from deepsvg.svglib.utils import to_gif\n",
    "from deepsvg.svglib.geom import Bbox\n",
    "from deepsvg.svg_dataset import SVGDataset, load_dataset\n",
    "from deepsvg.utils.utils import batchify, linear\n",
    "\n",
    "import os\n",
    "import torch\n",
    "from tqdm import tqdm\n",
    "\n",
    "import matplotlib.pyplot as plt\n",
    "from matplotlib.offsetbox import OffsetImage, AnnotationBbox\n",
    "\n",
    "from cairosvg import svg2png\n",
    "from PIL import Image\n",
    "import cv2\n",
    "\n",
    "import pandas as pd\n",
    "import numpy as np\n",
    "\n",
    "from sklearn.manifold import TSNE"
   ]
  },
  {
   "cell_type": "code",
   "execution_count": 4,
   "metadata": {},
   "outputs": [],
   "source": [
    "device = torch.device(\"cuda:0\"if torch.cuda.is_available() else \"cpu\") "
   ]
  },
  {
   "cell_type": "code",
   "execution_count": 5,
   "metadata": {},
   "outputs": [],
   "source": [
    "pretrained_folder = \"pretrained\"\n",
    "pretrained_file = \"run1_0.95_singleGPU.pth.tar\"\n",
    "pretrained_path = os.path.join(pretrained_folder, pretrained_file)\n",
    "\n",
    "from configs.deepsvg.hierarchical_ordered_gest_singleGPU import Config\n",
    "\n",
    "cfg = Config()\n",
    "model = cfg.make_model().to(device)\n",
    "utils.load_model(pretrained_path, model)\n",
    "model.eval();"
   ]
  },
  {
   "cell_type": "code",
   "execution_count": 6,
   "metadata": {},
   "outputs": [],
   "source": [
    "dataset = load_dataset(cfg)"
   ]
  },
  {
   "cell_type": "code",
   "execution_count": 7,
   "metadata": {},
   "outputs": [],
   "source": [
    "def encode_icon(idx):\n",
    "    data = dataset.get(id=idx, random_aug=False)\n",
    "    model_args = batchify((data[key] for key in cfg.model_args), device)\n",
    "    with torch.no_grad():\n",
    "        z = model(*model_args, encode_mode=True)\n",
    "    return z"
   ]
  },
  {
   "cell_type": "code",
   "execution_count": 8,
   "metadata": {},
   "outputs": [],
   "source": [
    "# extract dataframe\n",
    "df = dataset.df\n",
    "\n",
    "# create variables to save image paths and features\n",
    "tensors = np.zeros((len(df), 256))\n",
    "img_paths = []\n",
    "\n",
    "# create folder to save images\n",
    "dataset_folder = os.path.dirname(cfg.meta_filepath)\n",
    "png_folder = os.path.join(dataset_folder, 'pngs')\n",
    "os.makedirs(png_folder, exist_ok = True)"
   ]
  },
  {
   "cell_type": "code",
   "execution_count": 9,
   "metadata": {},
   "outputs": [
    {
     "name": "stderr",
     "output_type": "stream",
     "text": [
      "100%|██████████| 30100/30100 [04:54<00:00, 102.24it/s]\n"
     ]
    }
   ],
   "source": [
    "# generate tensors and images\n",
    "\n",
    "for index, row in tqdm(df.iterrows(), total = df.shape[0]):\n",
    "    # get id\n",
    "    idx = row[\"id\"]\n",
    "    \n",
    "    # encode and save tensor\n",
    "    tensor = encode_icon(idx)\n",
    "    tensors[index] = tensor.cpu().numpy().squeeze()\n",
    "    \n",
    "    # save png\n",
    "    path = os.path.join(cfg.data_dir, idx+'.svg')\n",
    "    img_path = os.path.join(png_folder, idx+'.png')\n",
    "    with open(path, 'r') as f:\n",
    "        path_string =f.read()\n",
    "    svg2png(bytestring=path_string, write_to = img_path, scale = 0.32)\n",
    "    img_paths.append(img_path)"
   ]
  },
  {
   "cell_type": "code",
   "execution_count": 11,
   "metadata": {},
   "outputs": [],
   "source": [
    "def visualize_scatter_with_images(X_2d_data, images, figsize=(20,20), image_zoom=1):\n",
    "    fig, ax = plt.subplots(figsize=figsize)\n",
    "    artists = []\n",
    "    for c, (xy, i) in enumerate(zip(X_2d_data, images)):\n",
    "        x0, y0 = xy\n",
    "        img = OffsetImage(i, zoom=image_zoom, cmap = 'gray')\n",
    "        ab = AnnotationBbox(img, (x0, y0), xycoords='data', frameon=False)\n",
    "        artists.append(ax.add_artist(ab))\n",
    "    ax.update_datalim(X_2d_data)\n",
    "    ax.autoscale()\n",
    "    plt.show()"
   ]
  },
  {
   "cell_type": "code",
   "execution_count": null,
   "metadata": {},
   "outputs": [],
   "source": [
    "tsne = TSNE(n_components=2, random_state=0)\n",
    "\n",
    "embed_2d = tsne.fit_transform(embed.cpu().detach().numpy())\n",
    "plot_images = images.numpy().reshape((-1,64,64))\n",
    "\n",
    "visualize_scatter_with_images(embed_2d, plot_images)"
   ]
  },
  {
   "cell_type": "code",
   "execution_count": 11,
   "metadata": {},
   "outputs": [],
   "source": [
    "no_of_images = 10\n",
    "image_width = 64\n",
    "\n",
    "image_names = img_paths[:no_of_images]\n",
    "features = tensors[:no_of_images]\n",
    "\n",
    "tsne = TSNE(n_jobs= -1)\n",
    "reduced = tsne.fit_transform(features)\n",
    "reduced_transformed = reduced - np.min(reduced, axis=0)\n",
    "reduced_transformed /= np.max(reduced_transformed, axis=0)\n",
    "image_xindex_sorted = np.argsort(np.sum(reduced_transformed, axis=1))"
   ]
  },
  {
   "cell_type": "code",
   "execution_count": 23,
   "metadata": {},
   "outputs": [
    {
     "data": {
      "image/png": "[encoded data removed]",
      "text/plain": [
       "<Figure size 432x288 with 1 Axes>"
      ]
     },
     "metadata": {
      "needs_background": "light"
     },
     "output_type": "display_data"
    }
   ],
   "source": [
    "# draw all images in a merged image\n",
    "merged_width = int(np.ceil(np.sqrt(no_of_images))*image_width)\n",
    "merged_image = np.zeros((merged_width, merged_width, 3), dtype='uint8')\n",
    "\n",
    "ellipside = True\n",
    "\n",
    "for counter, index in enumerate(image_xindex_sorted):\n",
    "    # set location\n",
    "    if ellipside:\n",
    "        a = np.ceil(reduced_transformed[counter, 0] * (merged_width-image_width-1)+1)\n",
    "        b = np.ceil(reduced_transformed[counter, 1] * (merged_width-image_width-1)+1)\n",
    "        a = int(a - np.mod(a-1,image_width) + 1)\n",
    "        b = int(b - np.mod(b-1,image_width) + 1)\n",
    "        if merged_image[a,b,0] != 0:\n",
    "            continue\n",
    "        image_address = image_names[counter]\n",
    "        img = cv2.imread(image_address)\n",
    "#         img = cv2.cvtColor(img, cv2.COLOR_BGR2GRAY)\n",
    "#         _, img = cv2.threshold(img, 224, 255, cv2.THRESH_BINARY_INV)\n",
    "        merged_image[a:a+image_width, b:b+image_width,:] = img[:,:,:3]\n",
    "    else:\n",
    "        b = int(np.mod(counter, np.sqrt(no_of_images)))\n",
    "        a = int(np.mod(counter//np.sqrt(no_of_images), np.sqrt(no_of_images)))\n",
    "        image_address = image_names[index]\n",
    "        img = np.asarray(Image.open(image_address).resize((image_width, image_width)))\n",
    "        merged_image[a*image_width:(a+1)*image_width, b*image_width:(b+1)*image_width,:] = img[:,:,:3]\n",
    "\n",
    "plt.imshow(merged_image)\n",
    "plt.show()\n",
    "# merged_image = Image.fromarray(merged_image)\n",
    "# if ellipside:\n",
    "#     merged_image.save('merged-%s-ellipsoide-inception.png'%image_path.split('/')[-2])\n",
    "# else:\n",
    "#     merged_image.save('merged-%s.png'%image_path.split('/')[-2])"
   ]
  },
  {
   "cell_type": "code",
   "execution_count": 24,
   "metadata": {},
   "outputs": [],
   "source": [
    "img = cv2.imread(image_names[0])"
   ]
  },
  {
   "cell_type": "code",
   "execution_count": 27,
   "metadata": {},
   "outputs": [
    {
     "data": {
      "image/png": "[encoded data removed]",
      "text/plain": [
       "<Figure size 432x288 with 1 Axes>"
      ]
     },
     "metadata": {
      "needs_background": "light"
     },
     "output_type": "display_data"
    }
   ],
   "source": [
    "plt.imshow(img)\n",
    "plt.show()"
   ]
  },
  {
   "cell_type": "code",
   "execution_count": 26,
   "metadata": {},
   "outputs": [],
   "source": []
  },
  {
   "cell_type": "code",
   "execution_count": null,
   "metadata": {},
   "outputs": [],
   "source": []
  }
 ],
 "metadata": {
  "kernelspec": {
   "display_name": "deepsvg",
   "language": "python",
   "name": "deepsvg"
  },
  "language_info": {
   "codemirror_mode": {
    "name": "ipython",
    "version": 3
   },
   "file_extension": ".py",
   "mimetype": "text/x-python",
   "name": "python",
   "nbconvert_exporter": "python",
   "pygments_lexer": "ipython3",
   "version": "3.7.10"
  }
 },
 "nbformat": 4,
 "nbformat_minor": 4
}
