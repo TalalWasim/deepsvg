{
 "cells": [
  {
   "cell_type": "code",
   "execution_count": 2,
   "metadata": {},
   "outputs": [],
   "source": [
    "%load_ext autoreload\n",
    "%autoreload 2"
   ]
  },
  {
   "cell_type": "code",
   "execution_count": 3,
   "metadata": {},
   "outputs": [],
   "source": [
    "import os\n",
    "from deepsvg.svglib.geom import Point, Angle\n",
    "from deepsvg.svglib.svg import SVG\n",
    "from deepsvg.svglib.utils import make_grid\n",
    "\n",
    "from cairosvg import svg2png"
   ]
  },
  {
   "cell_type": "code",
   "execution_count": 4,
   "metadata": {},
   "outputs": [],
   "source": [
    "svg_folder = './images'\n",
    "save_folder = os.path.join(svg_folder, 'output')\n",
    "os.makedirs(save_folder, exist_ok=True)\n",
    "\n",
    "svg_file = 'test6.svg'\n",
    "svg_path = os.path.join(svg_folder, svg_file)"
   ]
  },
  {
   "cell_type": "code",
   "execution_count": 10,
   "metadata": {},
   "outputs": [
    {
     "data": {
      "image/svg+xml": [
       "<svg height=\"200px\" viewBox=\"0.0 0.0 24.0 24.0\" width=\"200px\" xmlns=\"http://www.w3.org/2000/svg\"><path d=\"M8.916828155517578 10.447664260864258 C11.115758895874023 10.447664260864258 13.14084529876709 10.447664260864258 15.383235931396484 10.447664260864258 C14.993475914001465 13.900946617126465 12.370573043823242 16.21407699584961 11.49442195892334 19.321521759033203 C12.789460182189941 19.38116455078125 13.926837921142578 19.433408737182617 15.193672180175781 19.49166488647461 C15.227424621582031 20.097341537475586 15.255165100097656 20.592979431152344 15.291690826416016 21.247665405273438 C12.989194869995117 21.247665405273438 10.808296203613281 21.247665405273438 8.449394226074219 21.247665405273438 C8.71755599975586 17.890552520751953 11.281742095947266 15.635215759277344 12.274404525756836 12.466279029846191 C11.221174240112305 12.3677978515625 10.267349243164062 12.279026985168457 9.11147689819336 12.17083740234375 C9.054608345031738 11.670577049255371 8.992653846740723 11.120382308959961 8.916828155517578 10.447664260864258\" fill=\"black\" fill-opacity=\"1.0\" filling=\"0\"/>\n",
       "<circle cx=\"8.916828155517578\" cy=\"10.447664260864258\" fill=\"deepskyblue\" fill-opacity=\"1.0\" r=\"0.4000000059604645\"/>\n",
       "<line fill=\"none\" stroke=\"red\" stroke-dasharray=\"0.5\" stroke-opacity=\"1.0\" stroke-width=\".3\" x1=\"0.0\" x2=\"8.916828155517578\" y1=\"0.0\" y2=\"10.447664260864258\"/>\n",
       "<circle cx=\"15.383235931396484\" cy=\"10.447664260864258\" fill=\"deepskyblue\" fill-opacity=\"1.0\" r=\"0.4000000059604645\"/>\n",
       "<circle cx=\"11.49442195892334\" cy=\"19.321521759033203\" fill=\"deepskyblue\" fill-opacity=\"1.0\" r=\"0.4000000059604645\"/>\n",
       "<circle cx=\"15.193672180175781\" cy=\"19.49166488647461\" fill=\"deepskyblue\" fill-opacity=\"1.0\" r=\"0.4000000059604645\"/>\n",
       "<circle cx=\"15.291690826416016\" cy=\"21.247665405273438\" fill=\"deepskyblue\" fill-opacity=\"1.0\" r=\"0.4000000059604645\"/>\n",
       "<circle cx=\"8.449394226074219\" cy=\"21.247665405273438\" fill=\"deepskyblue\" fill-opacity=\"1.0\" r=\"0.4000000059604645\"/>\n",
       "<circle cx=\"12.274404525756836\" cy=\"12.466279029846191\" fill=\"deepskyblue\" fill-opacity=\"1.0\" r=\"0.4000000059604645\"/>\n",
       "<circle cx=\"9.11147689819336\" cy=\"12.17083740234375\" fill=\"deepskyblue\" fill-opacity=\"1.0\" r=\"0.4000000059604645\"/>\n",
       "<circle cx=\"8.916828155517578\" cy=\"10.447664260864258\" fill=\"deepskyblue\" fill-opacity=\"1.0\" r=\"0.4000000059604645\"/></svg>"
      ],
      "text/plain": [
       "<IPython.core.display.SVG object>"
      ]
     },
     "metadata": {},
     "output_type": "display_data"
    },
    {
     "name": "stdout",
     "output_type": "stream",
     "text": [
      "test6_z0.45.png\n"
     ]
    }
   ],
   "source": [
    "zoom = 0.45\n",
    "\n",
    "s = SVG.load_svg(svg_path)\n",
    "s.normalize().zoom(zoom).canonicalize().draw(with_points=True)\n",
    "\n",
    "out_name = svg_file.split('.')[0] + '_z' + str(zoom) + '.png'\n",
    "print(out_name)\n",
    "svg2png(bytestring = s.to_str(), write_to = os.path.join(save_folder, out_name), scale = 0.32)"
   ]
  },
  {
   "cell_type": "code",
   "execution_count": null,
   "metadata": {},
   "outputs": [],
   "source": []
  },
  {
   "cell_type": "code",
   "execution_count": null,
   "metadata": {},
   "outputs": [],
   "source": []
  }
 ],
 "metadata": {
  "kernelspec": {
   "display_name": "deepsvg",
   "language": "python",
   "name": "deepsvg"
  },
  "language_info": {
   "codemirror_mode": {
    "name": "ipython",
    "version": 3
   },
   "file_extension": ".py",
   "mimetype": "text/x-python",
   "name": "python",
   "nbconvert_exporter": "python",
   "pygments_lexer": "ipython3",
   "version": "3.7.10"
  }
 },
 "nbformat": 4,
 "nbformat_minor": 4
}
