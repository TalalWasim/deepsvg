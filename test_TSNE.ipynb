{
 "cells": [
  {
   "cell_type": "code",
   "execution_count": 3,
   "metadata": {},
   "outputs": [],
   "source": [
    "%load_ext autoreload\n",
    "%autoreload 2"
   ]
  },
  {
   "cell_type": "code",
   "execution_count": 4,
   "metadata": {},
   "outputs": [],
   "source": [
    "from deepsvg.svglib.svg import SVG\n",
    "\n",
    "from deepsvg import utils\n",
    "from deepsvg.difflib.tensor import SVGTensor\n",
    "from deepsvg.svglib.utils import to_gif\n",
    "from deepsvg.svglib.geom import Bbox\n",
    "from deepsvg.svg_dataset import SVGDataset, load_dataset\n",
    "from deepsvg.utils.utils import batchify, linear\n",
    "\n",
    "import torch\n",
    "\n",
    "import os\n",
    "import ntpath\n",
    "import re\n",
    "from tqdm import tqdm\n",
    "\n",
    "import matplotlib.pyplot as plt\n",
    "from matplotlib.offsetbox import OffsetImage, AnnotationBbox\n",
    "\n",
    "from cairosvg import svg2png\n",
    "from PIL import Image\n",
    "import cv2\n",
    "\n",
    "import pandas as pd\n",
    "import numpy as np\n",
    "\n",
    "from sklearn.manifold import TSNE"
   ]
  },
  {
   "cell_type": "code",
   "execution_count": 5,
   "metadata": {},
   "outputs": [],
   "source": [
    "device = torch.device(\"cuda:0\"if torch.cuda.is_available() else \"cpu\") "
   ]
  },
  {
   "cell_type": "code",
   "execution_count": 6,
   "metadata": {},
   "outputs": [],
   "source": [
    "pretrained_folder = \"pretrained\"\n",
    "pretrained_file = \"run1_0.95_singleGPU.pth.tar\"\n",
    "pretrained_path = os.path.join(pretrained_folder, pretrained_file)\n",
    "\n",
    "from configs.deepsvg.hierarchical_ordered_gest_singleGPU import Config\n",
    "\n",
    "cfg = Config()\n",
    "model = cfg.make_model().to(device)\n",
    "utils.load_model(pretrained_path, model)\n",
    "model.eval();"
   ]
  },
  {
   "cell_type": "code",
   "execution_count": 7,
   "metadata": {},
   "outputs": [],
   "source": [
    "dataset = load_dataset(cfg)"
   ]
  },
  {
   "cell_type": "code",
   "execution_count": 8,
   "metadata": {},
   "outputs": [],
   "source": [
    "def encode_icon(idx):\n",
    "    data = dataset.get(id=idx, random_aug=False)\n",
    "    model_args = batchify((data[key] for key in cfg.model_args), device)\n",
    "    with torch.no_grad():\n",
    "        z = model(*model_args, encode_mode=True)\n",
    "    return z"
   ]
  },
  {
   "cell_type": "code",
   "execution_count": 9,
   "metadata": {},
   "outputs": [],
   "source": [
    "# extract dataframe\n",
    "df = dataset.df\n",
    "\n",
    "# create variables to save image paths and features\n",
    "tensors = np.zeros((len(df), 256))\n",
    "png_paths = []\n",
    "jpg_paths = []\n",
    "\n",
    "# create folder to save images\n",
    "dataset_folder = os.path.dirname(cfg.meta_filepath)\n",
    "png_folder = os.path.join(dataset_folder, 'pngs')\n",
    "os.makedirs(png_folder, exist_ok = True)\n",
    "\n",
    "# create corresponding jpg folder\n",
    "jpg_folder = os.path.join(dataset_folder, 'jpgs')\n",
    "os.makedirs(jpg_folder, exist_ok = True)"
   ]
  },
  {
   "cell_type": "code",
   "execution_count": 54,
   "metadata": {},
   "outputs": [
    {
     "name": "stderr",
     "output_type": "stream",
     "text": [
      "100%|██████████| 30100/30100 [04:53<00:00, 102.62it/s]\n"
     ]
    }
   ],
   "source": [
    "# # generate tensors and images\n",
    "\n",
    "# for index, row in tqdm(df.iterrows(), total = df.shape[0]):\n",
    "#     # get id\n",
    "#     idx = row[\"id\"]\n",
    "    \n",
    "#     # encode and save tensor\n",
    "#     tensor = encode_icon(idx)\n",
    "#     tensors[index] = tensor.cpu().numpy().squeeze()\n",
    "    \n",
    "#     # save png\n",
    "#     path = os.path.join(cfg.data_dir, idx+'.svg')\n",
    "#     png_path = os.path.join(png_folder, idx+'.png')\n",
    "#     with open(path, 'r') as f:\n",
    "#         path_string =f.read()\n",
    "#     svg2png(bytestring=path_string, write_to = img_path, scale = 0.32)\n",
    "#     png_paths.append(png_path)"
   ]
  },
  {
   "cell_type": "code",
   "execution_count": 58,
   "metadata": {},
   "outputs": [],
   "source": [
    "# def pure_pil_alpha_to_color_v2(image, color=(255, 255, 255)):\n",
    "#     \"\"\"Alpha composite an RGBA Image with a specified color.\n",
    "\n",
    "#     Simpler, faster version than the solutions above.\n",
    "\n",
    "#     Source: http://stackoverflow.com/a/9459208/284318\n",
    "#     Keyword Arguments:\n",
    "#     image -- PIL RGBA Image object\n",
    "#     color -- Tuple r, g, b (default 255, 255, 255)\n",
    "\n",
    "#     \"\"\"\n",
    "#     image.load()  # needed for split()\n",
    "#     background = Image.new('RGB', image.size, color)\n",
    "#     background.paste(image, mask=image.split()[3])  # 3 is the alpha channel\n",
    "#     return background"
   ]
  },
  {
   "cell_type": "code",
   "execution_count": 60,
   "metadata": {},
   "outputs": [],
   "source": [
    "# # png to jpg\n",
    "# for png_path in png_paths:\n",
    "#     jpg_path = re.sub('png', 'jpg', png_path)\n",
    "#     png = Image.open(png_path)\n",
    "#     jpg = pure_pil_alpha_to_color_v2(png, color=(255, 255, 255))\n",
    "#     jpg.save(jpg_path)\n",
    "#     jpg_paths.append(jpg_path)"
   ]
  },
  {
   "cell_type": "code",
   "execution_count": 15,
   "metadata": {},
   "outputs": [],
   "source": [
    "jpg_paths.append(os.path.join(jpg_folder, '1053_Layer 2.jpg'))\n",
    "jpg_paths.append(os.path.join(jpg_folder, '1053_Layer 4.jpg'))\n",
    "jpg_paths.append(os.path.join(jpg_folder, '1053_Layer 7.jpg'))\n",
    "jpg_paths.append(os.path.join(jpg_folder, '1053_Layer 8.jpg'))\n",
    "\n",
    "tensors = np.random.uniform(low=0.5, high=13.3, size=(4,256))"
   ]
  },
  {
   "cell_type": "code",
   "execution_count": 16,
   "metadata": {},
   "outputs": [],
   "source": [
    "no_of_images = 4\n",
    "image_width = 64\n",
    "skip = 0\n",
    "\n",
    "image_names = jpg_paths[skip:skip+no_of_images]\n",
    "features = tensors[skip:skip+no_of_images]\n",
    "\n",
    "tsne = TSNE(n_jobs= -1)\n",
    "reduced = tsne.fit_transform(features)\n",
    "reduced_transformed = reduced - np.min(reduced, axis=0)\n",
    "reduced_transformed /= np.max(reduced_transformed, axis=0)\n",
    "image_xindex_sorted = np.argsort(np.sum(reduced_transformed, axis=1))"
   ]
  },
  {
   "cell_type": "code",
   "execution_count": null,
   "metadata": {},
   "outputs": [],
   "source": [
    "def visualize_scatter_with_images(tsne_vec, images, save_path, figsize=(100,50), image_zoom=1):\n",
    "    fig, ax = plt.subplots(figsize=figsize)\n",
    "    artists = []\n",
    "    for c, (xy, i) in enumerate(zip(tsne_vec, images)):\n",
    "        x0, y0 = xy\n",
    "        if c == 0:\n",
    "            print(\"Size of one image: \", i.shape)\n",
    "        if i.shape[0] == 1:\n",
    "            img = OffsetImage(i.transpose(1,2,0),zoom=image_zoom, cmap=\"gray\")\n",
    "        else:\n",
    "             img = OffsetImage(i.transpose(1,2,0),zoom=image_zoom)\n",
    "        ab = AnnotationBbox(img, (x0, y0), xycoords='data', frameon=False)\n",
    "        artists.append(ax.add_artist(ab))\n",
    "    ax.set_axis_off()\n",
    "    ax.update_datalim(tsne_vec)\n",
    "    ax.autoscale()\n",
    "    fig.savefig(save_path)"
   ]
  },
  {
   "cell_type": "code",
   "execution_count": 20,
   "metadata": {},
   "outputs": [
    {
     "name": "stdout",
     "output_type": "stream",
     "text": [
      "(4, 2)\n"
     ]
    }
   ],
   "source": [
    "print(reduced.shape)"
   ]
  },
  {
   "cell_type": "code",
   "execution_count": 21,
   "metadata": {},
   "outputs": [
    {
     "name": "stdout",
     "output_type": "stream",
     "text": [
      "2\n",
      "2\n",
      "2\n",
      "2\n",
      "2\n",
      "2\n",
      "2\n",
      "2\n"
     ]
    },
    {
     "data": {
      "image/png": "[encoded data removed]",
      "text/plain": [
       "<Figure size 432x288 with 1 Axes>"
      ]
     },
     "metadata": {
      "needs_background": "light"
     },
     "output_type": "display_data"
    }
   ],
   "source": [
    "# draw all images in a merged image\n",
    "merged_width = int(np.ceil(np.sqrt(no_of_images))*image_width)\n",
    "merged_image = np.zeros((merged_width, merged_width, 3), dtype='uint8')\n",
    "\n",
    "ellipside = True\n",
    "\n",
    "for counter, index in enumerate(image_xindex_sorted):\n",
    "    # set location\n",
    "    if ellipside:\n",
    "        a = np.ceil(reduced_transformed[counter, 0] * (merged_width-image_width-1)+1)\n",
    "        b = np.ceil(reduced_transformed[counter, 1] * (merged_width-image_width-1)+1)\n",
    "        a = int(a - np.mod(a-1,image_width) + 1)\n",
    "        b = int(b - np.mod(b-1,image_width) + 1)\n",
    "        print(a)\n",
    "        print(b)\n",
    "        if merged_image[a,b,0] != 0:\n",
    "            continue\n",
    "        image_address = image_names[counter]\n",
    "        img = np.asarray(Image.open(image_address).resize((image_width, image_width)))\n",
    "        merged_image[a:a+image_width, b:b+image_width,:] = img[:,:,:3]\n",
    "    else:\n",
    "        b = int(np.mod(counter, np.sqrt(no_of_images)))\n",
    "        a = int(np.mod(counter//np.sqrt(no_of_images), np.sqrt(no_of_images)))\n",
    "        image_address = image_names[index]\n",
    "        img = np.asarray(Image.open(image_address).resize((image_width, image_width)))\n",
    "        merged_image[a*image_width:(a+1)*image_width, b*image_width:(b+1)*image_width,:] = img[:,:,:3]\n",
    "\n",
    "plt.imshow(merged_image)\n",
    "plt.show()\n",
    "# merged_image = Image.fromarray(merged_image)\n",
    "# if ellipside:\n",
    "#     merged_image.save('merged-%s-ellipsoide-inception.png'%image_path.split('/')[-2])\n",
    "# else:\n",
    "#     merged_image.save('merged-%s.png'%image_path.split('/')[-2])"
   ]
  },
  {
   "cell_type": "code",
   "execution_count": null,
   "metadata": {},
   "outputs": [],
   "source": []
  }
 ],
 "metadata": {
  "kernelspec": {
   "display_name": "deepsvg",
   "language": "python",
   "name": "deepsvg"
  },
  "language_info": {
   "codemirror_mode": {
    "name": "ipython",
    "version": 3
   },
   "file_extension": ".py",
   "mimetype": "text/x-python",
   "name": "python",
   "nbconvert_exporter": "python",
   "pygments_lexer": "ipython3",
   "version": "3.7.10"
  }
 },
 "nbformat": 4,
 "nbformat_minor": 4
}
